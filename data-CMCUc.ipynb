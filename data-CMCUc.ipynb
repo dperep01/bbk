{
 "cells": [
  {
   "cell_type": "code",
   "execution_count": 6,
   "metadata": {},
   "outputs": [],
   "source": [
    "df = pd.read_csv('data/CMCUc.csv', parse_dates=['Trade Date'], dayfirst=True).rename(columns={'Trade Date':'Date', 'Universal Close Price':'Price'})[['RIC', 'Date', 'Price', 'Volume']]\n",
    "df['TT'] = pd.to_numeric(df.RIC.str.extract('(\\d+)')[0])-1\n",
    "#df.set_index('Date', inplace=True)\n",
    "df.to_pickle('data/CMCUc')"
   ]
  },
  {
   "cell_type": "code",
   "execution_count": 2,
   "metadata": {},
   "outputs": [
    {
     "name": "stderr",
     "output_type": "stream",
     "text": [
      "/Users/xren/anaconda3/lib/python3.6/site-packages/pandas/core/frame.py:6201: FutureWarning:\n",
      "\n",
      "Sorting because non-concatenation axis is not aligned. A future version\n",
      "of pandas will change to not sort by default.\n",
      "\n",
      "To accept the future behavior, pass 'sort=True'.\n",
      "\n",
      "To retain the current behavior and silence the warning, pass sort=False\n",
      "\n",
      "\n"
     ]
    },
    {
     "name": "stdout",
     "output_type": "stream",
     "text": [
      "Done\n"
     ]
    }
   ],
   "source": [
    "df = pd.read_pickle('data/CMCUc')\n",
    "CMCUc_fc_px = pd.DataFrame(columns=['Date']+list(range(12)))\n",
    "i=0\n",
    "for n,g in df.groupby('Date'):\n",
    "    v = g.sort_values('TT').copy()\n",
    "    v.Price = pd.to_numeric(v.Price)\n",
    "    v.Volume = pd.to_numeric(v.Volume)\n",
    "    v = v.set_index('TT').T['Price':'Price']\n",
    "    v['Date'] = n\n",
    "    CMCUc_fc_px = CMCUc_fc_px.append(v)\n",
    "CMCUc_fc_px.set_index('Date', inplace=True)\n",
    "#CMCUc_fc_px.to_pickle('data/CMCUc-fc-px')\n",
    "print('Done')"
   ]
  },
  {
   "cell_type": "code",
   "execution_count": 4,
   "metadata": {},
   "outputs": [
    {
     "data": {
      "text/plain": [
       "dtype('O')"
      ]
     },
     "execution_count": 4,
     "metadata": {},
     "output_type": "execute_result"
    }
   ],
   "source": [
    "CMCUc_fc_px[0].dtype"
   ]
  },
  {
   "cell_type": "code",
   "execution_count": 13,
   "metadata": {},
   "outputs": [],
   "source": [
    "df = pd.read_pickle('data/CMCUc-fc-px')\n",
    "CMCUc_fc_spread = pd.DataFrame(index=df.index)\n",
    "for i in range(12):\n",
    "    CMCUc_fc_spread[i] = pd.to_numeric(df[i]/df[0]-1)\n",
    "#CMCUc_fc_spread.to_pickle('data/CMCUc-fc-spread')"
   ]
  },
  {
   "cell_type": "code",
   "execution_count": null,
   "metadata": {},
   "outputs": [],
   "source": []
  },
  {
   "cell_type": "code",
   "execution_count": null,
   "metadata": {},
   "outputs": [],
   "source": []
  }
 ],
 "metadata": {
  "kernelspec": {
   "display_name": "Python 3",
   "language": "python",
   "name": "python3"
  },
  "language_info": {
   "codemirror_mode": {
    "name": "ipython",
    "version": 3
   },
   "file_extension": ".py",
   "mimetype": "text/x-python",
   "name": "python",
   "nbconvert_exporter": "python",
   "pygments_lexer": "ipython3",
   "version": "3.6.5"
  }
 },
 "nbformat": 4,
 "nbformat_minor": 2
}
