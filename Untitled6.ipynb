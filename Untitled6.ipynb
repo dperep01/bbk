{
 "cells": [
  {
   "cell_type": "code",
   "execution_count": null,
   "metadata": {},
   "outputs": [],
   "source": [
    "df = pd.read_csv('SCF.csv', parse_dates=['Trade Date'], \n",
    "                 infer_datetime_format=True,\n",
    "                dtype={'RIC':str})[['RIC', 'Trade Date', 'Universal Close Price']].dropna()\n",
    "df.rename(columns={'Trade Date':'Date', 'Universal Close Price':'Close'}, inplace=True)\n",
    "expiry = None\n",
    "for n, g in df.groupby('RIC'):\n",
    "    g = g.sort_values('Date')\n",
    "    g['diff'] = g.Date.diff().shift(-1)\n",
    "    exp = g[(g['diff'].dt.days > 365) | (g['diff'].isnull())]\n",
    "    exp['CRIC'] = exp.Date.dt.year.astype(str) + exp.RIC.str[3:4]\n",
    "    exp = exp[['RIC', 'CRIC', 'Date']]\n",
    "    if expiry is None:\n",
    "        expiry = exp\n",
    "    else:\n",
    "        expiry = expiry.append(exp)"
   ]
  },
  {
   "cell_type": "code",
   "execution_count": null,
   "metadata": {},
   "outputs": [],
   "source": [
    "print(expiry.columns)\n",
    "df['Expiry'] = np.nan; df['CRIC'] = np.nan\n",
    "print(df.head())\n",
    "for index, row in expiry.sort_values('Date', ascending=False).iterrows():\n",
    "    df['Expiry'][(df.RIC==row.RIC) & (df.Date <= row.Date)] = row.Date\n",
    "    df['CRIC'][(df.RIC==row.RIC) & (df.Date <= row.Date)] = row.CRIC\n",
    "print(df.head())"
   ]
  },
  {
   "cell_type": "code",
   "execution_count": null,
   "metadata": {},
   "outputs": [],
   "source": [
    "from matplotlib import pylab as plt\n",
    "fig, ax = plt.subplots(figsize=(20,7))\n",
    "df_c = df[df['Date']=='2016-1-1'].sort_values('Expiry')\n",
    "df_c.index = range(len(df_c))\n",
    "print(df_c.CRIC)\n",
    "df_c.plot(y='Close', ax=ax, marker='o', grid=True, legend=False, xticks=range(len(df_c)))\n",
    "ax.set_xticklabels(df_c.CRIC)"
   ]
  },
  {
   "cell_type": "code",
   "execution_count": null,
   "metadata": {},
   "outputs": [],
   "source": [
    "from plotly.offline import plot, iplot, init_notebook_mode\n",
    "import plotly.graph_objs as go\n",
    "init_notebook_mode()\n",
    "\n",
    "iplot({\n",
    "    \"data\": [go.Line(x=df_c.Expiry, y=df_c.Close)],\n",
    "    \"layout\": go.Layout(title=\"Forward Curve\")\n",
    "})"
   ]
  },
  {
   "cell_type": "code",
   "execution_count": null,
   "metadata": {},
   "outputs": [],
   "source": [
    "expiry.to_csv('SCF-expiry.csv', index=False)\n",
    "df.to_csv('SCF-with-expiry.csv', index=False)"
   ]
  }
 ],
 "metadata": {
  "kernelspec": {
   "display_name": "Python 3",
   "language": "python",
   "name": "python3"
  },
  "language_info": {
   "codemirror_mode": {
    "name": "ipython",
    "version": 3
   },
   "file_extension": ".py",
   "mimetype": "text/x-python",
   "name": "python",
   "nbconvert_exporter": "python",
   "pygments_lexer": "ipython3",
   "version": "3.6.5"
  }
 },
 "nbformat": 4,
 "nbformat_minor": 2
}
