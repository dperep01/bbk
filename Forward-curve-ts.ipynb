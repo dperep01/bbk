{
 "cells": [
  {
   "cell_type": "code",
   "execution_count": 30,
   "metadata": {},
   "outputs": [
    {
     "name": "stdout",
     "output_type": "stream",
     "text": [
      "                  0        1        2        3        4        5        6  \\\n",
      "Date                                                                        \n",
      "2016-01-15  34900.0  35040.0  35010.0  34970.0  34930.0  34890.0  34920.0   \n",
      "\n",
      "                  7        8        9  10  11  \n",
      "Date                                           \n",
      "2016-01-15  34980.0  34870.0  34840.0 NaN NaN  \n"
     ]
    }
   ],
   "source": [
    "df = pd.read_csv('SCF-forward-curve.csv', parse_dates=True, index_col=0)\n",
    "print(df['2016-1-15':'2016-1-15'])\n",
    "\n"
   ]
  }
 ],
 "metadata": {
  "kernelspec": {
   "display_name": "Python 3",
   "language": "python",
   "name": "python3"
  },
  "language_info": {
   "codemirror_mode": {
    "name": "ipython",
    "version": 3
   },
   "file_extension": ".py",
   "mimetype": "text/x-python",
   "name": "python",
   "nbconvert_exporter": "python",
   "pygments_lexer": "ipython3",
   "version": "3.6.5"
  }
 },
 "nbformat": 4,
 "nbformat_minor": 2
}
